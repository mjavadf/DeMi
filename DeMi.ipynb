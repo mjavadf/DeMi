{
 "cells": [
  {
   "cell_type": "markdown",
   "metadata": {},
   "source": [
    "# Preparation\n",
    "This block is for preparing libraries and modules which will be used in the project. New libraries may be added during the project."
   ]
  },
  {
   "cell_type": "code",
   "execution_count": 1,
   "metadata": {},
   "outputs": [],
   "source": [
    "# Uncomment the following lines to install the required packages\n",
    "# !pip install pandas\n",
    "# !pip install matplotlib\n",
    "# !pip install seaborn\n",
    "# !pip install pycountry\n",
    "\n",
    "import pandas as pd\n",
    "import matplotlib.pyplot as plt\n",
    "import seaborn as sns\n",
    "import pycountry\n",
    "\n",
    "datasets_path = 'datasets/'"
   ]
  },
  {
   "cell_type": "markdown",
   "metadata": {},
   "source": [
    "# Questions\n",
    "\n",
    "## What are the main countries of origin of immigrants in Italy, and how have these trends changed over the past decade?"
   ]
  },
  {
   "cell_type": "markdown",
   "metadata": {},
   "source": [
    "## Generate mashed-up data"
   ]
  },
  {
   "cell_type": "code",
   "execution_count": 3,
   "metadata": {},
   "outputs": [],
   "source": [
    "def convert_to_iso3(code):\n",
    "    if pd.isna(code):  # Check if the value is NaN\n",
    "        return None  # Keep it as NaN\n",
    "    if code == \"UK\":  # Manually correct \"UK\" to \"GBR\"\n",
    "        return \"GBR\"\n",
    "    try:\n",
    "        return pycountry.countries.get(alpha_2=code).alpha_3\n",
    "    except AttributeError:\n",
    "        # print(f\"Warning: Country code '{code}' not found in ISO 3166-1 alpha-2!\")  # Debugging\n",
    "        return code  # Keep the original if not found"
   ]
  },
  {
   "cell_type": "code",
   "execution_count": 60,
   "metadata": {},
   "outputs": [],
   "source": [
    "# load datasets\n",
    "d4 = pd.read_csv(f'{datasets_path}IstatData/Immigrants - citizenship (IT1,28_185_DF_DCIS_MIGRAZIONI_2,1.0).csv')\n",
    "d5 = pd.read_csv(f'{datasets_path}IstatData/Type of residence permit and citizenship (IT1,29_348_DF_DCIS_PERMSOGG1_1,1.0).csv')\n",
    "d15 = pd.read_csv(f'{datasets_path}OECD/OECD.ELS.IMD,DSD_MIG@DF_MIG,1.0+ITA..A.B11.csv')\n",
    "\n",
    "Sex_dictionary = {\n",
    "  1: \"Male\",\n",
    "  2: \"Female\",\n",
    "  9: \"Total\",\n",
    "}\n",
    "\n",
    "Permit_Type_dictionary = {\n",
    "  \"LONGT\": \"Long-term\",\n",
    "  \"NLONGT\": \"Short-term\",\n",
    "  \"TOTAL\": \"Total\",\n",
    "}\n",
    "\n",
    "d4_filtered = d4[d4['AGE'] == 'TOTAL'][['CITIZENSHIP',\n",
    "                                        'SEX',\n",
    "                                        # 'AGE',\n",
    "                                        'TIME_PERIOD',\n",
    "                                        'OBS_VALUE']]\n",
    "d4_filtered = d4_filtered.rename(columns={'CITIZENSHIP': 'Country_Code',\n",
    "                                          'SEX': 'Sex',\n",
    "                                        #   'AGE': 'Age_range',\n",
    "                                          'TIME_PERIOD': 'Year',\n",
    "                                          'OBS_VALUE': 'Value'})\n",
    "d4_filtered = d4_filtered[d4_filtered['Country_Code'].str.len() == 2]\n",
    "# Convert country codes to ISO 3166-1 alpha-3\n",
    "d4_filtered['Country_Code'] = d4_filtered['Country_Code'].apply(convert_to_iso3)\n",
    "# Add column dataset = d4\n",
    "d4_filtered['Dataset'] = 'Immigrants - citizenship'\n",
    "d4_filtered['Dataset_Code'] = 'D4'\n",
    "\n",
    "\n",
    "d5_filtered = d5[['MOSTREL_CCITENSHIP',\n",
    "                  'SEX', 'TYPE_RES_PERMIT',\n",
    "                  'TIME_PERIOD',\n",
    "                  'OBS_VALUE']]\n",
    "d5_filtered = d5_filtered.rename(columns={'MOSTREL_CCITENSHIP': 'Country_Code',\n",
    "                                          'SEX': 'Sex',\n",
    "                                          'TYPE_RES_PERMIT': 'Permit_Type',\n",
    "                                          'TIME_PERIOD': 'Year',\n",
    "                                          'OBS_VALUE': 'Value'})\n",
    "d5_filtered = d5_filtered[d5_filtered['Country_Code'].str.len() == 2]\n",
    "# Convert country codes to ISO 3166-1 alpha-3\n",
    "d5_filtered['Country_Code'] = d5_filtered['Country_Code'].apply(convert_to_iso3)\n",
    "# Add column dataset = d5\n",
    "d5_filtered['Dataset'] = 'Type of residence permit and citizenship'\n",
    "d5_filtered['Dataset_Code'] = 'D5'\n",
    "\n",
    "\n",
    "# print All d13 columns\n",
    "d15_filtered = d15[['CITIZENSHIP', 'Citizenship', 'Sex', 'TIME_PERIOD', 'OBS_VALUE']]\n",
    "d15_filtered = d15_filtered.rename(columns={'CITIZENSHIP': 'Country_Code',\n",
    "                                          'Citizenship': 'Country_Name',\n",
    "                                          'TIME_PERIOD': 'Year',\n",
    "                                          'OBS_VALUE': 'Value'})\n",
    "\n",
    "# Add country name to d4 and d5\n",
    "d4_filtered = d4_filtered.merge(d15_filtered[['Country_Code', 'Country_Name']], on='Country_Code', how='left')\n",
    "d5_filtered = d5_filtered.merge(d15_filtered[['Country_Code', 'Country_Name']], on='Country_Code', how='left')\n",
    "\n",
    "# Join d4 and d5\n",
    "combined = pd.concat([d4_filtered, d5_filtered], ignore_index=True)\n",
    "\n",
    "# Change Sex from integer to string\n",
    "combined['Sex'] = combined['Sex'].map(Sex_dictionary)\n",
    "\n",
    "# Change Permit_Type to improve readability\n",
    "combined['Permit_Type'] = combined['Permit_Type'].map(Permit_Type_dictionary)\n",
    "\n",
    "# Order columns: [Year, Country_Code, Country_Name, Sex, Value,  Dataset_Code, Dataset]\n",
    "combined = combined[['Year', 'Country_Code', 'Country_Name', 'Sex', 'Value','Permit_Type' , 'Dataset_Code', 'Dataset']]\n",
    "combined = combined.drop_duplicates()\n",
    "\n",
    "# order by: [Country_Code, ]\n",
    "combined = combined.sort_values(['Country_Name', 'Dataset_Code', 'Year'])\n",
    "\n",
    "# Save to CSV\n",
    "combined.to_csv(f'{datasets_path}mashup/italy_immigration_trends_by_country_and_permit.csv', index=False)\n"
   ]
  },
  {
   "cell_type": "markdown",
   "metadata": {},
   "source": [
    "## What are the demographic profiles of immigrants in Italy (age, gender, education level)?"
   ]
  },
  {
   "cell_type": "code",
   "execution_count": null,
   "metadata": {},
   "outputs": [],
   "source": [
    "# python codes"
   ]
  }
 ],
 "metadata": {
  "kernelspec": {
   "display_name": ".venv",
   "language": "python",
   "name": "python3"
  },
  "language_info": {
   "codemirror_mode": {
    "name": "ipython",
    "version": 3
   },
   "file_extension": ".py",
   "mimetype": "text/x-python",
   "name": "python",
   "nbconvert_exporter": "python",
   "pygments_lexer": "ipython3",
   "version": "3.13.1"
  }
 },
 "nbformat": 4,
 "nbformat_minor": 2
}
